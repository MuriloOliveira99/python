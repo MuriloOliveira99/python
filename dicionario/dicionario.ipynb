{
 "cells": [
  {
   "cell_type": "markdown",
   "id": "d8ae2f5a",
   "metadata": {},
   "source": [
    "# Python - Dicionário \n",
    "<p> Um dicionário é composto por \"chave\": \"valor\"</p>"
   ]
  },
  {
   "cell_type": "markdown",
   "id": "4bfe9270",
   "metadata": {},
   "source": [
    "====================================="
   ]
  },
  {
   "cell_type": "markdown",
   "id": "5c12284e",
   "metadata": {},
   "source": [
    "# <font color='green'>Criando um dicionário</font>"
   ]
  },
  {
   "cell_type": "code",
   "execution_count": 7,
   "id": "e3b076d0",
   "metadata": {},
   "outputs": [],
   "source": [
    "pessoas = {\n",
    "    'nome': 'João',\n",
    "    'sexo': 'M',\n",
    "    'idade': 22,\n",
    "    'cidade': 'São Paulo'\n",
    "}"
   ]
  },
  {
   "cell_type": "markdown",
   "id": "f834122c",
   "metadata": {},
   "source": [
    "### Mostrar todas as informações do dicionário"
   ]
  },
  {
   "cell_type": "code",
   "execution_count": 8,
   "id": "c42e595e",
   "metadata": {},
   "outputs": [
    {
     "name": "stdout",
     "output_type": "stream",
     "text": [
      "{'nome': 'João', 'sexo': 'M', 'idade': 22, 'cidade': 'São Paulo'}\n"
     ]
    }
   ],
   "source": [
    "print(pessoas)"
   ]
  },
  {
   "cell_type": "markdown",
   "id": "55a34698",
   "metadata": {},
   "source": [
    "### Mostrar  o valor de uma chave do dicionário"
   ]
  },
  {
   "cell_type": "code",
   "execution_count": 9,
   "id": "3f1222e5",
   "metadata": {},
   "outputs": [
    {
     "name": "stdout",
     "output_type": "stream",
     "text": [
      "João\n",
      "M\n",
      "22\n",
      "São Paulo\n"
     ]
    }
   ],
   "source": [
    "print(pessoas['nome'])\n",
    "print(pessoas['sexo'])\n",
    "print(pessoas['idade'])\n",
    "print(pessoas['cidade'])"
   ]
  },
  {
   "cell_type": "markdown",
   "id": "c63aad83",
   "metadata": {},
   "source": [
    "### f-string com as informações do dicionário"
   ]
  },
  {
   "cell_type": "code",
   "execution_count": 10,
   "id": "77241a6d",
   "metadata": {},
   "outputs": [
    {
     "name": "stdout",
     "output_type": "stream",
     "text": [
      "O João é do sexo M, tem 22 anos e mora na cidade de São Paulo.\n"
     ]
    }
   ],
   "source": [
    "print(f\"O {pessoas['nome']} é do sexo {pessoas['sexo']}, tem {pessoas['idade']} anos e mora na cidade de {pessoas['cidade']}.\")"
   ]
  },
  {
   "cell_type": "markdown",
   "id": "ca611169",
   "metadata": {},
   "source": [
    "### Mostrar as chaves do dicionario"
   ]
  },
  {
   "cell_type": "code",
   "execution_count": 11,
   "id": "b6158fb2",
   "metadata": {},
   "outputs": [
    {
     "name": "stdout",
     "output_type": "stream",
     "text": [
      "dict_keys(['nome', 'sexo', 'idade', 'cidade'])\n"
     ]
    }
   ],
   "source": [
    "print(pessoas.keys())\n",
    "# Retorna um dicionário de lista"
   ]
  },
  {
   "cell_type": "markdown",
   "id": "a8c691a3",
   "metadata": {},
   "source": [
    "### Mostrar os valores do dicionario"
   ]
  },
  {
   "cell_type": "code",
   "execution_count": 12,
   "id": "c7356884",
   "metadata": {},
   "outputs": [
    {
     "name": "stdout",
     "output_type": "stream",
     "text": [
      "dict_values(['João', 'M', 22, 'São Paulo'])\n"
     ]
    }
   ],
   "source": [
    "print(pessoas.values())\n",
    "# Retorna um dicionário de lista"
   ]
  },
  {
   "cell_type": "markdown",
   "id": "a1c62e8c",
   "metadata": {},
   "source": [
    "### Mostrar todos os items do dicionário"
   ]
  },
  {
   "cell_type": "code",
   "execution_count": 13,
   "id": "60be397c",
   "metadata": {},
   "outputs": [
    {
     "name": "stdout",
     "output_type": "stream",
     "text": [
      "dict_items([('nome', 'João'), ('sexo', 'M'), ('idade', 22), ('cidade', 'São Paulo')])\n"
     ]
    }
   ],
   "source": [
    "print(pessoas.items())\n",
    "# Retorna um dicionário de listas composta por tuplas"
   ]
  },
  {
   "cell_type": "markdown",
   "id": "b63b3c95",
   "metadata": {},
   "source": [
    "### Acessar as chaves do dicionário com for"
   ]
  },
  {
   "cell_type": "code",
   "execution_count": 14,
   "id": "e9088719",
   "metadata": {},
   "outputs": [
    {
     "name": "stdout",
     "output_type": "stream",
     "text": [
      "nome\n",
      "sexo\n",
      "idade\n",
      "cidade\n"
     ]
    }
   ],
   "source": [
    "for k in pessoas.keys():\n",
    "    print(k)"
   ]
  },
  {
   "cell_type": "markdown",
   "id": "e8050cfa",
   "metadata": {},
   "source": [
    "### Acessar os valores do dicionário com for"
   ]
  },
  {
   "cell_type": "code",
   "execution_count": 15,
   "id": "3f19b8b3",
   "metadata": {},
   "outputs": [
    {
     "name": "stdout",
     "output_type": "stream",
     "text": [
      "João\n",
      "M\n",
      "22\n",
      "São Paulo\n"
     ]
    }
   ],
   "source": [
    "for v in pessoas.values():\n",
    "    print(v)"
   ]
  },
  {
   "cell_type": "markdown",
   "id": "38112bb2",
   "metadata": {},
   "source": [
    "### Acessar os itens do dicionário com for"
   ]
  },
  {
   "cell_type": "code",
   "execution_count": 16,
   "id": "b6b6d5f1",
   "metadata": {},
   "outputs": [
    {
     "name": "stdout",
     "output_type": "stream",
     "text": [
      "nome: João\n",
      "sexo: M\n",
      "idade: 22\n",
      "cidade: São Paulo\n"
     ]
    }
   ],
   "source": [
    "for k, v in pessoas.items():\n",
    "    print(f'{k}: {v}')"
   ]
  },
  {
   "cell_type": "markdown",
   "id": "ce8e78a7",
   "metadata": {},
   "source": [
    "### Apagar a chave e o valor do dicionário"
   ]
  },
  {
   "cell_type": "code",
   "execution_count": 17,
   "id": "5f9a9a13",
   "metadata": {},
   "outputs": [
    {
     "name": "stdout",
     "output_type": "stream",
     "text": [
      "{'nome': 'João', 'sexo': 'M', 'idade': 22}\n"
     ]
    }
   ],
   "source": [
    "del pessoas['cidade']\n",
    "print(pessoas)"
   ]
  },
  {
   "cell_type": "markdown",
   "id": "4f77458b",
   "metadata": {},
   "source": [
    "### Atualizar a chave e o valor do dicionário"
   ]
  },
  {
   "cell_type": "code",
   "execution_count": 18,
   "id": "027bd895",
   "metadata": {},
   "outputs": [
    {
     "name": "stdout",
     "output_type": "stream",
     "text": [
      "{'nome': 'Murilo', 'sexo': 'M', 'idade': 22}\n"
     ]
    }
   ],
   "source": [
    "pessoas['nome'] = 'Murilo'\n",
    "print(pessoas)"
   ]
  },
  {
   "cell_type": "markdown",
   "id": "a6a62840",
   "metadata": {},
   "source": [
    "### Adicionar chave e valor do dicionário"
   ]
  },
  {
   "cell_type": "code",
   "execution_count": 19,
   "id": "3097d2dc",
   "metadata": {},
   "outputs": [
    {
     "name": "stdout",
     "output_type": "stream",
     "text": [
      "{'nome': 'Murilo', 'sexo': 'M', 'idade': 22, 'peso': 75.5}\n"
     ]
    }
   ],
   "source": [
    "pessoas['peso'] = 75.5\n",
    "print(pessoas)"
   ]
  },
  {
   "cell_type": "markdown",
   "id": "00288ae6",
   "metadata": {},
   "source": [
    "============================================================"
   ]
  },
  {
   "cell_type": "markdown",
   "id": "20ff8d20",
   "metadata": {},
   "source": [
    "# <font color='green'>Criar um dicionário dentro de uma lista</font>"
   ]
  },
  {
   "cell_type": "code",
   "execution_count": 20,
   "id": "23bc9f84",
   "metadata": {},
   "outputs": [
    {
     "name": "stdout",
     "output_type": "stream",
     "text": [
      "[]\n",
      "{'uf': 'Rio de Janeiro', 'sigla': 'RJ'}\n",
      "{'uf': 'São Paulo', 'sigla': 'SP'}\n"
     ]
    }
   ],
   "source": [
    "# Criando uma lista\n",
    "brasil = []\n",
    "\n",
    "# Criando 2 dicionários\n",
    "estado1 = {'uf': 'Rio de Janeiro', 'sigla': 'RJ'}\n",
    "estado2 = {'uf': 'São Paulo', 'sigla': 'SP'}\n",
    "\n",
    "# Mostrando o contéudo da lista e dos dicionários\n",
    "print(brasil)\n",
    "print(estado1)\n",
    "print(estado2)"
   ]
  },
  {
   "cell_type": "markdown",
   "id": "faba1202",
   "metadata": {},
   "source": [
    "### Adicionar os dicionários estado1 e estado2 na lista brasil"
   ]
  },
  {
   "cell_type": "code",
   "execution_count": 21,
   "id": "2b4394fd",
   "metadata": {},
   "outputs": [
    {
     "name": "stdout",
     "output_type": "stream",
     "text": [
      "[{'uf': 'Rio de Janeiro', 'sigla': 'RJ'}, {'uf': 'São Paulo', 'sigla': 'SP'}]\n"
     ]
    }
   ],
   "source": [
    "brasil.append(estado1)\n",
    "brasil.append(estado2)\n",
    "print(brasil)"
   ]
  },
  {
   "cell_type": "markdown",
   "id": "b85cac3b",
   "metadata": {},
   "source": [
    "### Exibir os estados da lista brasil"
   ]
  },
  {
   "cell_type": "code",
   "execution_count": 22,
   "id": "45511a0b",
   "metadata": {},
   "outputs": [
    {
     "name": "stdout",
     "output_type": "stream",
     "text": [
      "{'uf': 'Rio de Janeiro', 'sigla': 'RJ'}\n",
      "Rio de Janeiro\n",
      "RJ \n",
      "\n",
      "{'uf': 'São Paulo', 'sigla': 'SP'}\n",
      "São Paulo\n",
      "SP\n"
     ]
    }
   ],
   "source": [
    "# Rio de Janeiro\n",
    "print(brasil[0])\n",
    "print(brasil[0]['uf'])\n",
    "print(brasil[0]['sigla'], '\\n')\n",
    "\n",
    "# São Paulo\n",
    "print(brasil[1])\n",
    "print(brasil[1]['uf'])\n",
    "print(brasil[1]['sigla'])"
   ]
  },
  {
   "cell_type": "markdown",
   "id": "b9601923",
   "metadata": {},
   "source": [
    "================================================================================="
   ]
  },
  {
   "cell_type": "markdown",
   "id": "bc78fb97",
   "metadata": {},
   "source": [
    "# <font color='green'>Adicionar o dicionário com os dados do input na lista</font>"
   ]
  },
  {
   "cell_type": "code",
   "execution_count": 23,
   "id": "c80e1c86",
   "metadata": {},
   "outputs": [
    {
     "name": "stdout",
     "output_type": "stream",
     "text": [
      "Unidade Federativa: São Paulo\n",
      "Sigla: SP\n",
      "\n",
      "Unidade Federativa: Rio de Janeiro\n",
      "Sigla: RJ\n",
      "\n",
      "Unidade Federativa: Minas Gerais\n",
      "Sigla: MG\n",
      "\n",
      "[{'uf': 'São Paulo', 'sigla': 'SP'}, {'uf': 'Rio de Janeiro', 'sigla': 'RJ'}, {'uf': 'Minas Gerais', 'sigla': 'MG'}]\n"
     ]
    }
   ],
   "source": [
    "# Criando um dicionário\n",
    "estado = dict()\n",
    "\n",
    "# Criando uma lista\n",
    "brasil = list()\n",
    "\n",
    "# for para gerar 3 estados\n",
    "for c in range(3):\n",
    "    \n",
    "    # Criando a chave UF e pegando o dado do input\n",
    "    estado['uf'] = input('Unidade Federativa: ')\n",
    "    \n",
    "    # Criando a chave sigla e pegando o dado do input\n",
    "    estado['sigla'] = input('Sigla: ')\n",
    "    print()\n",
    "    \n",
    "    # Adicionando os dados do estado na lista brasil\n",
    "    brasil.append(estado.copy())\n",
    "    \n",
    "# Mostrando a lista brasil dps de adicionar os dicionário\n",
    "print(brasil)"
   ]
  },
  {
   "cell_type": "markdown",
   "id": "97200ef7",
   "metadata": {},
   "source": [
    "### Exibir os itens da lista brasil com for"
   ]
  },
  {
   "cell_type": "code",
   "execution_count": 24,
   "id": "91287384",
   "metadata": {},
   "outputs": [
    {
     "name": "stdout",
     "output_type": "stream",
     "text": [
      "uf: São Paulo\n",
      "sigla: SP\n",
      "\n",
      "uf: Rio de Janeiro\n",
      "sigla: RJ\n",
      "\n",
      "uf: Minas Gerais\n",
      "sigla: MG\n",
      "\n"
     ]
    }
   ],
   "source": [
    "for estado in brasil:\n",
    "    for k, v in estado.items():\n",
    "        print(f'{k}: {v}')\n",
    "    print()"
   ]
  },
  {
   "cell_type": "markdown",
   "id": "f69572a8",
   "metadata": {},
   "source": [
    "=================================================="
   ]
  },
  {
   "cell_type": "markdown",
   "id": "e475f05a",
   "metadata": {},
   "source": [
    "# <font color='green'>Exercícios - Dicionário</font>"
   ]
  },
  {
   "cell_type": "markdown",
   "id": "7b217607",
   "metadata": {},
   "source": [
    "#### 1. Faça um programa que leia o nome e a média de um aluno, guardando também a situação em um dicionário. No final, mostre o    conteúdo da estrutura na tela\n",
    " \n"
   ]
  },
  {
   "cell_type": "code",
   "execution_count": 25,
   "id": "9fcb2356",
   "metadata": {},
   "outputs": [
    {
     "name": "stdout",
     "output_type": "stream",
     "text": [
      "Digite seu nome: Murilo\n",
      "Digite sua média: 4.9\n",
      "\n",
      "nome: Murilo\n",
      "media: 4.9\n",
      "situacao: Reprovado\n"
     ]
    }
   ],
   "source": [
    "aluno = {}\n",
    "aluno['nome'] = input('Digite seu nome: ')\n",
    "aluno['media'] = float(input('Digite sua média: '))\n",
    "print()\n",
    "\n",
    "if aluno['media'] >= 7:\n",
    "    aluno['situacao'] = 'Aprovado'\n",
    "elif aluno['media'] >= 5.0:\n",
    "    aluno['situacao'] = 'Recuperação'\n",
    "else:\n",
    "    aluno['situacao'] = 'Reprovado'\n",
    "    \n",
    "for chave, valor in aluno.items(): \n",
    "    print(f'{chave}: {valor}')\n",
    "    \n",
    "# print(f\"Nome: {aluno['nome']}\")\n",
    "# print(f\"Média: {aluno['media']}\")\n",
    "# print(f\"Situação: {aluno['situacao']}\")"
   ]
  },
  {
   "cell_type": "markdown",
   "id": "24973087",
   "metadata": {},
   "source": [
    "#### 2. Crie um programa onde 4 jogadores joguem um dado e tenham resultados aleatórios. Guarde esses resultados em um dicionário. No final, coloque esse dicionário em ordem, sabendo que o vencedor tirou o maior número no dado."
   ]
  },
  {
   "cell_type": "code",
   "execution_count": 26,
   "id": "ea9d744a",
   "metadata": {},
   "outputs": [
    {
     "name": "stdout",
     "output_type": "stream",
     "text": [
      "Valores Sorteados:\n",
      "-- O jogador1 tirou 4\n",
      "-- O jogador2 tirou 4\n",
      "-- O jogador3 tirou 1\n",
      "-- O jogador4 tirou 4\n",
      "\n",
      "Raking dos Jogadores: \n",
      "1º Lugar: jogador1 | número 4\n",
      "2º Lugar: jogador2 | número 4\n",
      "3º Lugar: jogador4 | número 4\n",
      "4º Lugar: jogador3 | número 1\n"
     ]
    }
   ],
   "source": [
    "# Biblioca para gerar números aleatório\n",
    "from random import randint\n",
    "\n",
    "# Biblioteca para ordenar o dicionário\n",
    "from operator import itemgetter\n",
    "\n",
    "# Biblioteca para colocar segundos\n",
    "import time\n",
    "\n",
    "print('Valores Sorteados:')\n",
    "\n",
    "# Armazendo o jogador e o número do dado\n",
    "jogadores = {\n",
    "    'jogador1': randint(1, 6), \n",
    "     'jogador2': randint(1, 6),\n",
    "     'jogador3': randint(1, 6),\n",
    "     'jogador4': randint(1, 6)\n",
    "}\n",
    "# Gerando jogadores + número do dado \n",
    "# for j in range(1, 5):\n",
    "#     jogadores['jogador' + str(j)] = randint(1, 6)\n",
    "\n",
    "# Armazenando o ranking dos jogadores\n",
    "rank = []\n",
    "\n",
    "# Exibindo os jogadores e seu número do dado\n",
    "for chave, valor in jogadores.items():\n",
    "    print(f'-- O {chave} tirou {valor}')\n",
    "    #time.sleep(1)\n",
    "    \n",
    "# Ordenando o dicionário pelo valor\n",
    "rank = sorted(jogadores.items(), key=itemgetter(1), reverse=True)\n",
    "#print(ordena_dicionario_jogadores)\n",
    "\n",
    "print()\n",
    "print('Raking dos Jogadores: ')\n",
    "# print()\n",
    "cont = 1\n",
    "for i, v in rank:\n",
    "    print(f'{cont}º Lugar: {i} | número {v}')\n",
    "    cont+=1\n",
    "      "
   ]
  },
  {
   "cell_type": "markdown",
   "id": "98b6d00e",
   "metadata": {},
   "source": [
    "#### 3. Crie um programa que leia o nome, ano de nascimento e carteira de trabalho e cadastre-os(com idade) em um dicionário se por acaso a CTPS(Carteira de Trabalho) for diferente de 0, o dicionário receberá também o ano de contratação e o salário. Calcule e acrescente, além da idade, com quantos anos a pessoa vai se aposentar."
   ]
  },
  {
   "cell_type": "code",
   "execution_count": 27,
   "id": "59c93782",
   "metadata": {},
   "outputs": [
    {
     "name": "stdout",
     "output_type": "stream",
     "text": [
      "********************* ENTRADA *********************\n",
      "Nome: Murilo\n",
      "Ano Nascimento: 1999\n",
      "Carteira de Trabalho: (0 = não tem) 123\n",
      "Ano de Contratação: 2006\n",
      "Salário: R$ 1000\n",
      "********************* SÁIDA *********************\n",
      "nome: Murilo\n",
      "idade: 23\n",
      "ctps: 123\n",
      "contratacao: 2006\n",
      "salario: 1000.0\n",
      "aposentadoria: 42\n"
     ]
    }
   ],
   "source": [
    "# Biblioteca para data/hora\n",
    "from datetime import datetime\n",
    "\n",
    "# Criando um dicionário\n",
    "print('********************* ENTRADA *********************')\n",
    "dados_pessoa = {}\n",
    "dados_pessoa['nome'] = input('Nome: ')\n",
    "dados_pessoa['idade'] = int(input('Ano Nascimento: '))\n",
    "dados_pessoa['ctps'] = int(input('Carteira de Trabalho: (0 = não tem) '))\n",
    "\n",
    "# Pegando apenas a data, sem a hora\n",
    "# data_atual = datetime.today().strftime('%Y-%m-%d')\n",
    "# Pegando apenas o ano\n",
    "ano_atual = datetime.today().strftime('%Y')\n",
    "dados_pessoa['idade'] = int(ano_atual) - dados_pessoa['idade']\n",
    "\n",
    "if dados_pessoa['ctps'] != 0:\n",
    "    dados_pessoa['contratacao'] = int(input('Ano de Contratação: '))\n",
    "    dados_pessoa['salario'] = float(input('Salário: R$ '))\n",
    "    dados_pessoa['aposentadoria'] = dados_pessoa['idade'] + ((dados_pessoa['contratacao'] + 35) - int(ano_atual))\n",
    "\n",
    "print('********************* SÁIDA *********************')\n",
    "for chave, valor in dados_pessoa.items():\n",
    "    print(f'{chave}: {valor}')"
   ]
  },
  {
   "cell_type": "markdown",
   "id": "f31b5a70",
   "metadata": {},
   "source": [
    "#### 4. Crie um programa que gerencie o aproveitamento de um jogador de futebol. O programa vai ler o nome do jogador e quantas partidas ele jogou. Depois vai ler a quantidade de gols feitos em cada partida. No final, tudo isso será guardado em um dicionário incluindo o total de gols feitos durante o campeonato"
   ]
  },
  {
   "cell_type": "code",
   "execution_count": 28,
   "id": "3704344d",
   "metadata": {},
   "outputs": [
    {
     "name": "stdout",
     "output_type": "stream",
     "text": [
      "Nome do Jogador: Messi\n",
      "Quantas partidas jogou? 4\n",
      "Quantos gols na partida 1? 4\n",
      "Quantos gols na partida 2? 3\n",
      "Quantos gols na partida 3? 2\n",
      "Quantos gols na partida 4? 3\n",
      "\n",
      "{'nome': 'Messi', 'gols': [4, 3, 2, 3], 'total_gols': 12} \n",
      "\n",
      "nome: Messi\n",
      "gols: [4, 3, 2, 3]\n",
      "total_gols: 12\n",
      "\n",
      "O jogador Messi jogou 4 partidas\n",
      "=> Na partida 1, fez 4 gols\n",
      "=> Na partida 2, fez 3 gols\n",
      "=> Na partida 3, fez 2 gols\n",
      "=> Na partida 4, fez 3 gols\n"
     ]
    }
   ],
   "source": [
    "jogador = {}\n",
    "lista_gols = []\n",
    "jogador['nome'] = input('Nome do Jogador: ')\n",
    "partidas_jogadas = int(input('Quantas partidas jogou? '))\n",
    "\n",
    "# Somar valores da lista\n",
    "# def soma_lista(lista):\n",
    "#     cont = 0\n",
    "#     for i in lista:\n",
    "#         cont+=i\n",
    "#     return cont\n",
    "\n",
    "\n",
    "for i in range(partidas_jogadas):\n",
    "    gols = int(input(f'Quantos gols na partida {i+1}? '))\n",
    "    lista_gols.append(gols)\n",
    "    jogador['gols'] = lista_gols\n",
    "    jogador['total_gols'] = sum(jogador['gols'])\n",
    "    \n",
    "print()\n",
    "print(jogador, '\\n')\n",
    "\n",
    "for k, v in jogador.items():\n",
    "    print(f'{k}: {v}')\n",
    "print()\n",
    "\n",
    "print(f\"O jogador {jogador['nome']} jogou {partidas_jogadas} partidas\")\n",
    "for i, v in enumerate(jogador['gols']):\n",
    "    print(f'=> Na partida {i+1}, fez {v} gols')"
   ]
  },
  {
   "cell_type": "markdown",
   "id": "ede83463",
   "metadata": {},
   "source": [
    "#### 5.Crie um programa que leia o nome, sexo e idade de várias pessoas, guardando os dados de cada pessoa em um dicionário e todos os dicionário em uma lista. <br>No final, mostre:<br>A) Quantas pessoas foram cadastradas. <br> B) A média de idade do grupo.<br> C) uma lista com todas as mulheres.<br> D) Uma lista com todas as pessoas com a idade acima da média"
   ]
  },
  {
   "cell_type": "code",
   "execution_count": 34,
   "id": "97be0a64",
   "metadata": {},
   "outputs": [
    {
     "name": "stdout",
     "output_type": "stream",
     "text": [
      "Nome: Murilo\n",
      "Sexo: [M/F] M\n",
      "Idade: 22\n",
      "Quer continuar? [S/N] S\n",
      "\n",
      "Nome: Mario\n",
      "Sexo: [M/F] M\n",
      "Idade: 27\n",
      "Quer continuar? [S/N] S\n",
      "\n",
      "Nome: Maria\n",
      "Sexo: [M/F] F\n",
      "Idade: 18\n",
      "Quer continuar? [S/N] S\n",
      "\n",
      "Nome: Marcia\n",
      "Sexo: [M/F] F\n",
      "Idade: 28\n",
      "Quer continuar? [S/N] N\n",
      "\n",
      "A) Temos 4 pessoa(s) cadastrada(s)\n",
      "B) A média de idade é de 23.75 anos\n",
      "C) Todas as mulheres: \n",
      "Maria\n",
      "Marcia\n",
      "D) Pessoas acima da média: \n",
      "nome: Mario\n",
      "sexo: M\n",
      "idade: 27\n",
      "\n",
      "nome: Marcia\n",
      "sexo: F\n",
      "idade: 28\n",
      "\n"
     ]
    }
   ],
   "source": [
    "soma_idades = 0\n",
    "pessoas = []\n",
    "mulheres = []\n",
    "dados_pessoas = {}\n",
    "\n",
    "while True:\n",
    "    dados_pessoas['nome'] = input('Nome: ')\n",
    "    dados_pessoas['sexo'] = input('Sexo: [M/F] ')\n",
    "    dados_pessoas['idade'] = int(input('Idade: '))\n",
    "    continuar = input('Quer continuar? [S/N] ')\n",
    "    pessoas.append(dados_pessoas.copy())\n",
    "    print()\n",
    "    \n",
    "    soma_idades += dados_pessoas['idade']\n",
    "    \n",
    "    if dados_pessoas['sexo'] == 'F':\n",
    "        mulheres.append(dados_pessoas['nome'])\n",
    "    if continuar == 'N':\n",
    "        break\n",
    "    \n",
    "\n",
    "# A) Quantidade de pessoas cadastradas\n",
    "qtd_pessoas = len(pessoas)\n",
    "print(f'A) Temos {qtd_pessoas} pessoa(s) cadastrada(s)')\n",
    "\n",
    "# B) A média de idade do grupo.\n",
    "media_idade = soma_idades / qtd_pessoas\n",
    "print(f'B) A média de idade é de {media_idade} anos')\n",
    "\n",
    "# C) uma lista com todas as mulheres.\n",
    "print('C) Todas as mulheres: ')\n",
    "for mulher in mulheres:\n",
    "    print(mulher)\n",
    "\n",
    "# D) Uma lista com todas as pessoas com a idade acima da média\n",
    "print('D) Pessoas acima da média: ')\n",
    "for p in pessoas:\n",
    "    if p['idade'] >= media_idade:\n",
    "        for k, v in p.items():\n",
    "            print(f'{k}: {v}')\n",
    "        print()"
   ]
  }
 ],
 "metadata": {
  "kernelspec": {
   "display_name": "Python 3 (ipykernel)",
   "language": "python",
   "name": "python3"
  },
  "language_info": {
   "codemirror_mode": {
    "name": "ipython",
    "version": 3
   },
   "file_extension": ".py",
   "mimetype": "text/x-python",
   "name": "python",
   "nbconvert_exporter": "python",
   "pygments_lexer": "ipython3",
   "version": "3.9.7"
  }
 },
 "nbformat": 4,
 "nbformat_minor": 5
}
